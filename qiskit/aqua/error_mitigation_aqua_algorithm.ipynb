{
 "cells": [
  {
   "cell_type": "markdown",
   "metadata": {},
   "source": [
    "## Running Qiskit Aqua algorithms using measurement error mitigation"
   ]
  },
  {
   "cell_type": "markdown",
   "metadata": {},
   "source": [
    "### Introduction\n",
    "To execute quantum circuits as part of aqua algorithms, we define a QuantumInstance which holds the specification for the respective backend. If we want to use measurement error mitigation for the results of the quantum circuits runs, we can put a measurement error fitting instance into the QuantumInstance. Thus, the backend defined in the QuantumInstance may be viewed as a measurement error mitigated backend.\n",
    "\n",
    "This notebook illustrates how to run an aqua algorithm on the example of searching for the ground state of a Hamiltonian with VQE."
   ]
  },
  {
   "cell_type": "markdown",
   "metadata": {},
   "source": [
    "First, we need to import the libraries that provide backends as well as the classes that are needed to run the algorithm."
   ]
  },
  {
   "cell_type": "code",
   "execution_count": 1,
   "metadata": {},
   "outputs": [],
   "source": [
    "# Import qiskit functions and libraries\n",
    "from qiskit import Aer, IBMQ\n",
    "from qiskit.circuit.library import TwoLocal\n",
    "from qiskit.aqua import QuantumInstance\n",
    "from qiskit.aqua.algorithms import VQE\n",
    "from qiskit.aqua.components.optimizers import SPSA\n",
    "from qiskit.aqua.operators import X, Y, Z, I, CX, T, H, S, PrimitiveOp\n",
    "from qiskit.providers.aer import noise\n",
    "\n",
    "# Import error mitigation functions\n",
    "from qiskit.ignis.mitigation.measurement import CompleteMeasFitter"
   ]
  },
  {
   "cell_type": "markdown",
   "metadata": {},
   "source": [
    "Then, we initialize the instances that are needed to run the algorithm."
   ]
  },
  {
   "cell_type": "code",
   "execution_count": 2,
   "metadata": {},
   "outputs": [],
   "source": [
    "# Initialize Hamiltonian\n",
    "h_op =  (-1.0523732 * I^I) + \\\n",
    "                (0.39793742 * I^Z) + \\\n",
    "                (-0.3979374 * Z^I) + \\\n",
    "                (-0.0112801 * Z^Z) + \\\n",
    "                (0.18093119 * X^X)\n",
    "# Initialize trial state\n",
    "var_form = TwoLocal(h_op.num_qubits, ['ry', 'rz'], 'cz', reps=3, entanglement='full')\n",
    "# Initialize optimizer\n",
    "optimizer = SPSA(max_trials=350)\n",
    "# Initialize algorithm to find the ground state\n",
    "algo = VQE(h_op, var_form, optimizer)"
   ]
  },
  {
   "cell_type": "markdown",
   "metadata": {},
   "source": [
    "Here, we define our backend which for reasons of illustration - is given by an Aer simulated noise model.\n",
    "The use of a real quantum backend provided IBMQ is given in the commented part of the code."
   ]
  },
  {
   "cell_type": "code",
   "execution_count": 4,
   "metadata": {},
   "outputs": [],
   "source": [
    "# Generate a noise model\n",
    "noise_model = noise.NoiseModel()\n",
    "for qi in range(h_op.num_qubits):\n",
    "    read_err = noise.errors.readout_error.ReadoutError([[0.9, 0.1],[0.25,0.75]])\n",
    "    noise_model.add_readout_error(read_err, [qi])    \n",
    "# Initialize the backend configuration using measurement error mitigation with a QuantumInstance \n",
    "qi_noise_model_qasm = QuantumInstance(backend=Aer.get_backend('qasm_simulator'), noise_model=noise_model, shots=8000,\n",
    "                                      measurement_error_mitigation_cls=CompleteMeasFitter,\n",
    "                                      measurement_error_mitigation_shots=8000)\n",
    "# Intialize your TOKEN and provider with \n",
    "# provider = IBMQ.get_provider(...)\n",
    "# qi_noise_model_ibmq = QuantumInstance(backend=provider = provider.get_backend(backend_name)), shots=8000,\n",
    "#                                       measurement_error_mitigation_cls=CompleteMeasFitter, measurement_error_mitigation_shots=8000)"
   ]
  },
  {
   "cell_type": "markdown",
   "metadata": {},
   "source": [
    "Finally, we can run the algorithm with a measurement error mitigated, shot-based simulated backend that uses a noise model."
   ]
  },
  {
   "cell_type": "code",
   "execution_count": 5,
   "metadata": {},
   "outputs": [
    {
     "name": "stdout",
     "output_type": "stream",
     "text": [
      "{'optimal_parameters': {Parameter(θ[0]): -2.967486134198413, Parameter(θ[10]): -0.19061803266013988, Parameter(θ[11]): 0.7459430131412589, Parameter(θ[12]): 5.435352187816858, Parameter(θ[13]): -1.3927124973544567, Parameter(θ[14]): -1.2324538224586679, Parameter(θ[15]): 1.3105694915283719, Parameter(θ[1]): 5.109506548516348, Parameter(θ[2]): 4.517334392435216, Parameter(θ[3]): -3.27797107685917, Parameter(θ[4]): 2.084102108557699, Parameter(θ[5]): 0.21391707391242598, Parameter(θ[6]): -2.7014199772262866, Parameter(θ[7]): -0.6321797796657677, Parameter(θ[8]): 2.709123060013344, Parameter(θ[9]): -7.2118967795711155}, 'optimal_point': array([-2.96748613, -0.19061803,  0.74594301,  5.43535219, -1.3927125 ,\n",
      "       -1.23245382,  1.31056949,  5.10950655,  4.51733439, -3.27797108,\n",
      "        2.08410211,  0.21391707, -2.70141998, -0.63217978,  2.70912306,\n",
      "       -7.21189678]), 'optimal_value': -1.8549568901838998, 'optimizer_time': 72.27436900138855, 'eigenvalue': (-1.8549568901838998+0j), 'eigenstate': {'00': 42.41449690076157, '01': 7842.124590585504, '10': 45.04619733927806, '11': 70.41471517445635}, 'cost_function_evals': 751}\n"
     ]
    }
   ],
   "source": [
    "# Run the algorithm\n",
    "result = algo.run(qi_noise_model_qasm)\n",
    "print(result)"
   ]
  },
  {
   "cell_type": "code",
   "execution_count": null,
   "metadata": {},
   "outputs": [],
   "source": []
  }
 ],
 "metadata": {
  "kernelspec": {
   "display_name": "QiskitTesting",
   "language": "python",
   "name": "qiskittesting"
  },
  "language_info": {
   "codemirror_mode": {
    "name": "ipython",
    "version": 3
   },
   "file_extension": ".py",
   "mimetype": "text/x-python",
   "name": "python",
   "nbconvert_exporter": "python",
   "pygments_lexer": "ipython3",
   "version": "3.7.7"
  }
 },
 "nbformat": 4,
 "nbformat_minor": 1
}
